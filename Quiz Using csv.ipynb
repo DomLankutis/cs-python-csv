{
 "cells": [
  {
   "cell_type": "markdown",
   "metadata": {},
   "source": [
    "# Quiz App\n",
    "\n",
    "This will app will scale as long as you follow the following format:\n",
    "> **QUESTION**, fake response, fake response, **REAL RESPONSE**\n",
    ">> As long as the **QUESTION** is first  and **REAL RESPONSE** is at the end this will work with as many fake responses as you want"
   ]
  },
  {
   "cell_type": "code",
   "execution_count": 49,
   "metadata": {},
   "outputs": [],
   "source": [
    "import csv, random"
   ]
  },
  {
   "cell_type": "code",
   "execution_count": 99,
   "metadata": {},
   "outputs": [],
   "source": [
    "def getData(filename):\n",
    "    data = []\n",
    "    with open(filename) as f:\n",
    "        read = csv.reader(f)\n",
    "        for i in read:\n",
    "            data.append(i)\n",
    "        return data\n",
    "data = getData(\"questions.csv\")"
   ]
  },
  {
   "cell_type": "code",
   "execution_count": 101,
   "metadata": {},
   "outputs": [
    {
     "name": "stdout",
     "output_type": "stream",
     "text": [
      "what colour is the sky?\n",
      "Possible Answers: blue red green\n",
      "Answer\n",
      ">>> \n",
      "\n",
      "Wrong!\n",
      "\n",
      "\n",
      "\n",
      "when was the battle of hastings?\n",
      "Possible Answers: 1066 1166 1022\n",
      "Answer\n",
      ">>> \n",
      "\n",
      "Wrong!\n",
      "\n",
      "\n",
      "\n",
      "how many junctions does the M4 have?\n",
      "Possible Answers: 41 16 55\n",
      "Answer\n",
      ">>> \n",
      "\n",
      "Wrong!\n",
      "\n",
      "\n",
      "\n"
     ]
    }
   ],
   "source": [
    "for i in range(len(data)):\n",
    "    print(data[i][0])\n",
    "    answer = data[i][len(data[i])-1]\n",
    "    \n",
    "    print(\"Possible Answers: \", end=\"\")\n",
    "    \n",
    "    temp = []\n",
    "\n",
    "    for a in range(len(data[i])-1):\n",
    "        temp.append(data[i][a + 1])\n",
    "    random.shuffle(temp)\n",
    "    print(\" \".join(temp))\n",
    "        \n",
    "    response = input(\"Answer\\n>>> \")\n",
    "    \n",
    "    if response == answer:\n",
    "        print(\"\\ncorrect!\\n\\n\\n\")\n",
    "    else:\n",
    "        print(\"\\nWrong!\\n\\n\\n\")"
   ]
  }
 ],
 "metadata": {
  "kernelspec": {
   "display_name": "Python 3",
   "language": "python",
   "name": "python3"
  }
 },
 "nbformat": 4,
 "nbformat_minor": 2
}
